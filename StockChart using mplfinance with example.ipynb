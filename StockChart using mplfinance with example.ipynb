{
 "cells": [
  {
   "cell_type": "markdown",
   "id": "c741897f",
   "metadata": {},
   "source": [
    "# How to Plot A Candle Stick Chart of a Stock"
   ]
  },
  {
   "cell_type": "markdown",
   "id": "f504d078",
   "metadata": {},
   "source": [
    "## Step 1 - pip install mplfinance"
   ]
  },
  {
   "cell_type": "code",
   "execution_count": 1,
   "id": "03305fe2",
   "metadata": {},
   "outputs": [
    {
     "name": "stdout",
     "output_type": "stream",
     "text": [
      "Requirement already satisfied: mplfinance in /opt/anaconda3/lib/python3.8/site-packages (0.12.7a17)\n",
      "Requirement already satisfied: pandas in /opt/anaconda3/lib/python3.8/site-packages (from mplfinance) (1.2.4)\n",
      "Requirement already satisfied: matplotlib in /opt/anaconda3/lib/python3.8/site-packages (from mplfinance) (3.3.4)\n",
      "Requirement already satisfied: cycler>=0.10 in /opt/anaconda3/lib/python3.8/site-packages (from matplotlib->mplfinance) (0.10.0)\n",
      "Requirement already satisfied: numpy>=1.15 in /opt/anaconda3/lib/python3.8/site-packages (from matplotlib->mplfinance) (1.20.1)\n",
      "Requirement already satisfied: pillow>=6.2.0 in /opt/anaconda3/lib/python3.8/site-packages (from matplotlib->mplfinance) (8.2.0)\n",
      "Requirement already satisfied: pyparsing!=2.0.4,!=2.1.2,!=2.1.6,>=2.0.3 in /opt/anaconda3/lib/python3.8/site-packages (from matplotlib->mplfinance) (2.4.7)\n",
      "Requirement already satisfied: python-dateutil>=2.1 in /opt/anaconda3/lib/python3.8/site-packages (from matplotlib->mplfinance) (2.8.1)\n",
      "Requirement already satisfied: kiwisolver>=1.0.1 in /opt/anaconda3/lib/python3.8/site-packages (from matplotlib->mplfinance) (1.3.1)\n",
      "Requirement already satisfied: six in /opt/anaconda3/lib/python3.8/site-packages (from cycler>=0.10->matplotlib->mplfinance) (1.15.0)\n",
      "Requirement already satisfied: pytz>=2017.3 in /opt/anaconda3/lib/python3.8/site-packages (from pandas->mplfinance) (2021.1)\n",
      "Note: you may need to restart the kernel to use updated packages.\n"
     ]
    }
   ],
   "source": [
    "pip install mplfinance"
   ]
  },
  {
   "cell_type": "code",
   "execution_count": null,
   "id": "43521b1e",
   "metadata": {},
   "outputs": [],
   "source": []
  },
  {
   "cell_type": "markdown",
   "id": "711975d4",
   "metadata": {},
   "source": [
    "## Step 2 - Import The Necessary Libraries"
   ]
  },
  {
   "cell_type": "code",
   "execution_count": 2,
   "id": "cfa8af4a",
   "metadata": {},
   "outputs": [],
   "source": [
    "import pandas\n",
    "import pandas_datareader\n",
    "from pandas_datareader import data\n",
    "import mplfinance"
   ]
  },
  {
   "cell_type": "code",
   "execution_count": null,
   "id": "2eef6c0c",
   "metadata": {},
   "outputs": [],
   "source": []
  },
  {
   "cell_type": "markdown",
   "id": "26bf0eaa",
   "metadata": {},
   "source": [
    "## Step 3 - Extract the Stock Data"
   ]
  },
  {
   "cell_type": "code",
   "execution_count": 3,
   "id": "186d8a82",
   "metadata": {},
   "outputs": [
    {
     "data": {
      "text/html": [
       "<div>\n",
       "<style scoped>\n",
       "    .dataframe tbody tr th:only-of-type {\n",
       "        vertical-align: middle;\n",
       "    }\n",
       "\n",
       "    .dataframe tbody tr th {\n",
       "        vertical-align: top;\n",
       "    }\n",
       "\n",
       "    .dataframe thead th {\n",
       "        text-align: right;\n",
       "    }\n",
       "</style>\n",
       "<table border=\"1\" class=\"dataframe\">\n",
       "  <thead>\n",
       "    <tr style=\"text-align: right;\">\n",
       "      <th></th>\n",
       "      <th>High</th>\n",
       "      <th>Low</th>\n",
       "      <th>Open</th>\n",
       "      <th>Close</th>\n",
       "      <th>Volume</th>\n",
       "      <th>Adj Close</th>\n",
       "    </tr>\n",
       "    <tr>\n",
       "      <th>Date</th>\n",
       "      <th></th>\n",
       "      <th></th>\n",
       "      <th></th>\n",
       "      <th></th>\n",
       "      <th></th>\n",
       "      <th></th>\n",
       "    </tr>\n",
       "  </thead>\n",
       "  <tbody>\n",
       "    <tr>\n",
       "      <th>2020-10-26</th>\n",
       "      <td>116.550003</td>\n",
       "      <td>112.879997</td>\n",
       "      <td>114.010002</td>\n",
       "      <td>115.050003</td>\n",
       "      <td>111850700.0</td>\n",
       "      <td>114.314743</td>\n",
       "    </tr>\n",
       "    <tr>\n",
       "      <th>2020-10-27</th>\n",
       "      <td>117.279999</td>\n",
       "      <td>114.540001</td>\n",
       "      <td>115.489998</td>\n",
       "      <td>116.599998</td>\n",
       "      <td>92276800.0</td>\n",
       "      <td>115.854836</td>\n",
       "    </tr>\n",
       "    <tr>\n",
       "      <th>2020-10-28</th>\n",
       "      <td>115.430000</td>\n",
       "      <td>111.099998</td>\n",
       "      <td>115.050003</td>\n",
       "      <td>111.199997</td>\n",
       "      <td>143937800.0</td>\n",
       "      <td>110.489349</td>\n",
       "    </tr>\n",
       "    <tr>\n",
       "      <th>2020-10-29</th>\n",
       "      <td>116.930000</td>\n",
       "      <td>112.199997</td>\n",
       "      <td>112.370003</td>\n",
       "      <td>115.320000</td>\n",
       "      <td>146129200.0</td>\n",
       "      <td>114.583023</td>\n",
       "    </tr>\n",
       "    <tr>\n",
       "      <th>2020-10-30</th>\n",
       "      <td>111.989998</td>\n",
       "      <td>107.720001</td>\n",
       "      <td>111.059998</td>\n",
       "      <td>108.860001</td>\n",
       "      <td>190272600.0</td>\n",
       "      <td>108.164307</td>\n",
       "    </tr>\n",
       "    <tr>\n",
       "      <th>...</th>\n",
       "      <td>...</td>\n",
       "      <td>...</td>\n",
       "      <td>...</td>\n",
       "      <td>...</td>\n",
       "      <td>...</td>\n",
       "      <td>...</td>\n",
       "    </tr>\n",
       "    <tr>\n",
       "      <th>2021-10-18</th>\n",
       "      <td>146.839996</td>\n",
       "      <td>143.160004</td>\n",
       "      <td>143.449997</td>\n",
       "      <td>146.550003</td>\n",
       "      <td>85589200.0</td>\n",
       "      <td>146.550003</td>\n",
       "    </tr>\n",
       "    <tr>\n",
       "      <th>2021-10-19</th>\n",
       "      <td>149.169998</td>\n",
       "      <td>146.550003</td>\n",
       "      <td>147.009995</td>\n",
       "      <td>148.759995</td>\n",
       "      <td>76378900.0</td>\n",
       "      <td>148.759995</td>\n",
       "    </tr>\n",
       "    <tr>\n",
       "      <th>2021-10-20</th>\n",
       "      <td>149.750000</td>\n",
       "      <td>148.119995</td>\n",
       "      <td>148.699997</td>\n",
       "      <td>149.259995</td>\n",
       "      <td>58418800.0</td>\n",
       "      <td>149.259995</td>\n",
       "    </tr>\n",
       "    <tr>\n",
       "      <th>2021-10-21</th>\n",
       "      <td>149.639999</td>\n",
       "      <td>147.869995</td>\n",
       "      <td>148.809998</td>\n",
       "      <td>149.479996</td>\n",
       "      <td>61421000.0</td>\n",
       "      <td>149.479996</td>\n",
       "    </tr>\n",
       "    <tr>\n",
       "      <th>2021-10-22</th>\n",
       "      <td>150.179993</td>\n",
       "      <td>148.639999</td>\n",
       "      <td>149.690002</td>\n",
       "      <td>148.690002</td>\n",
       "      <td>58839600.0</td>\n",
       "      <td>148.690002</td>\n",
       "    </tr>\n",
       "  </tbody>\n",
       "</table>\n",
       "<p>251 rows × 6 columns</p>\n",
       "</div>"
      ],
      "text/plain": [
       "                  High         Low        Open       Close       Volume  \\\n",
       "Date                                                                      \n",
       "2020-10-26  116.550003  112.879997  114.010002  115.050003  111850700.0   \n",
       "2020-10-27  117.279999  114.540001  115.489998  116.599998   92276800.0   \n",
       "2020-10-28  115.430000  111.099998  115.050003  111.199997  143937800.0   \n",
       "2020-10-29  116.930000  112.199997  112.370003  115.320000  146129200.0   \n",
       "2020-10-30  111.989998  107.720001  111.059998  108.860001  190272600.0   \n",
       "...                ...         ...         ...         ...          ...   \n",
       "2021-10-18  146.839996  143.160004  143.449997  146.550003   85589200.0   \n",
       "2021-10-19  149.169998  146.550003  147.009995  148.759995   76378900.0   \n",
       "2021-10-20  149.750000  148.119995  148.699997  149.259995   58418800.0   \n",
       "2021-10-21  149.639999  147.869995  148.809998  149.479996   61421000.0   \n",
       "2021-10-22  150.179993  148.639999  149.690002  148.690002   58839600.0   \n",
       "\n",
       "             Adj Close  \n",
       "Date                    \n",
       "2020-10-26  114.314743  \n",
       "2020-10-27  115.854836  \n",
       "2020-10-28  110.489349  \n",
       "2020-10-29  114.583023  \n",
       "2020-10-30  108.164307  \n",
       "...                ...  \n",
       "2021-10-18  146.550003  \n",
       "2021-10-19  148.759995  \n",
       "2021-10-20  149.259995  \n",
       "2021-10-21  149.479996  \n",
       "2021-10-22  148.690002  \n",
       "\n",
       "[251 rows x 6 columns]"
      ]
     },
     "execution_count": 3,
     "metadata": {},
     "output_type": "execute_result"
    }
   ],
   "source": [
    "stock = data.DataReader(name = \"AAPL\",\n",
    "                       data_source = \"yahoo\",\n",
    "                       start = \"2020-10-25\",\n",
    "                       end = \"2021-10-25\")\n",
    "stock"
   ]
  },
  {
   "cell_type": "code",
   "execution_count": null,
   "id": "b36b0715",
   "metadata": {},
   "outputs": [],
   "source": []
  },
  {
   "cell_type": "markdown",
   "id": "2b35f401",
   "metadata": {},
   "source": [
    "## Step 4 - Remove the Unecessary columns \n",
    "## (Only keep Open, High, Low, Close and Volume)"
   ]
  },
  {
   "cell_type": "code",
   "execution_count": 4,
   "id": "640776e8",
   "metadata": {},
   "outputs": [
    {
     "data": {
      "text/plain": [
       "Index(['High', 'Low', 'Open', 'Close', 'Volume', 'Adj Close'], dtype='object')"
      ]
     },
     "execution_count": 4,
     "metadata": {},
     "output_type": "execute_result"
    }
   ],
   "source": [
    "stock.columns"
   ]
  },
  {
   "cell_type": "code",
   "execution_count": 5,
   "id": "6ac62f0f",
   "metadata": {},
   "outputs": [],
   "source": [
    "stock.drop(columns = ['Close'] , inplace = True)"
   ]
  },
  {
   "cell_type": "code",
   "execution_count": null,
   "id": "b4a6dad8",
   "metadata": {},
   "outputs": [],
   "source": []
  },
  {
   "cell_type": "markdown",
   "id": "3a4f2e63",
   "metadata": {},
   "source": [
    "## Step 5 - Rename the Columns to \"High\" , \"Low\" , \"Open\" ,\"Close\" ,\"Volume\""
   ]
  },
  {
   "cell_type": "code",
   "execution_count": null,
   "id": "57545846",
   "metadata": {},
   "outputs": [],
   "source": []
  },
  {
   "cell_type": "code",
   "execution_count": 6,
   "id": "dba15351",
   "metadata": {},
   "outputs": [],
   "source": [
    "stock.rename(columns = {'High' : \"High\",\n",
    "                        'Low' : \"Low\",\n",
    "                        'Open' : \"Open\",\n",
    "                        'Volume':\"Volume\",\n",
    "                        'Adj Close' : \"Close\"} , inplace = True)"
   ]
  },
  {
   "cell_type": "code",
   "execution_count": 7,
   "id": "0c435e0a",
   "metadata": {},
   "outputs": [
    {
     "data": {
      "text/html": [
       "<div>\n",
       "<style scoped>\n",
       "    .dataframe tbody tr th:only-of-type {\n",
       "        vertical-align: middle;\n",
       "    }\n",
       "\n",
       "    .dataframe tbody tr th {\n",
       "        vertical-align: top;\n",
       "    }\n",
       "\n",
       "    .dataframe thead th {\n",
       "        text-align: right;\n",
       "    }\n",
       "</style>\n",
       "<table border=\"1\" class=\"dataframe\">\n",
       "  <thead>\n",
       "    <tr style=\"text-align: right;\">\n",
       "      <th></th>\n",
       "      <th>High</th>\n",
       "      <th>Low</th>\n",
       "      <th>Open</th>\n",
       "      <th>Volume</th>\n",
       "      <th>Close</th>\n",
       "    </tr>\n",
       "    <tr>\n",
       "      <th>Date</th>\n",
       "      <th></th>\n",
       "      <th></th>\n",
       "      <th></th>\n",
       "      <th></th>\n",
       "      <th></th>\n",
       "    </tr>\n",
       "  </thead>\n",
       "  <tbody>\n",
       "    <tr>\n",
       "      <th>2020-10-26</th>\n",
       "      <td>116.550003</td>\n",
       "      <td>112.879997</td>\n",
       "      <td>114.010002</td>\n",
       "      <td>111850700.0</td>\n",
       "      <td>114.314743</td>\n",
       "    </tr>\n",
       "    <tr>\n",
       "      <th>2020-10-27</th>\n",
       "      <td>117.279999</td>\n",
       "      <td>114.540001</td>\n",
       "      <td>115.489998</td>\n",
       "      <td>92276800.0</td>\n",
       "      <td>115.854836</td>\n",
       "    </tr>\n",
       "    <tr>\n",
       "      <th>2020-10-28</th>\n",
       "      <td>115.430000</td>\n",
       "      <td>111.099998</td>\n",
       "      <td>115.050003</td>\n",
       "      <td>143937800.0</td>\n",
       "      <td>110.489349</td>\n",
       "    </tr>\n",
       "    <tr>\n",
       "      <th>2020-10-29</th>\n",
       "      <td>116.930000</td>\n",
       "      <td>112.199997</td>\n",
       "      <td>112.370003</td>\n",
       "      <td>146129200.0</td>\n",
       "      <td>114.583023</td>\n",
       "    </tr>\n",
       "    <tr>\n",
       "      <th>2020-10-30</th>\n",
       "      <td>111.989998</td>\n",
       "      <td>107.720001</td>\n",
       "      <td>111.059998</td>\n",
       "      <td>190272600.0</td>\n",
       "      <td>108.164307</td>\n",
       "    </tr>\n",
       "    <tr>\n",
       "      <th>...</th>\n",
       "      <td>...</td>\n",
       "      <td>...</td>\n",
       "      <td>...</td>\n",
       "      <td>...</td>\n",
       "      <td>...</td>\n",
       "    </tr>\n",
       "    <tr>\n",
       "      <th>2021-10-18</th>\n",
       "      <td>146.839996</td>\n",
       "      <td>143.160004</td>\n",
       "      <td>143.449997</td>\n",
       "      <td>85589200.0</td>\n",
       "      <td>146.550003</td>\n",
       "    </tr>\n",
       "    <tr>\n",
       "      <th>2021-10-19</th>\n",
       "      <td>149.169998</td>\n",
       "      <td>146.550003</td>\n",
       "      <td>147.009995</td>\n",
       "      <td>76378900.0</td>\n",
       "      <td>148.759995</td>\n",
       "    </tr>\n",
       "    <tr>\n",
       "      <th>2021-10-20</th>\n",
       "      <td>149.750000</td>\n",
       "      <td>148.119995</td>\n",
       "      <td>148.699997</td>\n",
       "      <td>58418800.0</td>\n",
       "      <td>149.259995</td>\n",
       "    </tr>\n",
       "    <tr>\n",
       "      <th>2021-10-21</th>\n",
       "      <td>149.639999</td>\n",
       "      <td>147.869995</td>\n",
       "      <td>148.809998</td>\n",
       "      <td>61421000.0</td>\n",
       "      <td>149.479996</td>\n",
       "    </tr>\n",
       "    <tr>\n",
       "      <th>2021-10-22</th>\n",
       "      <td>150.179993</td>\n",
       "      <td>148.639999</td>\n",
       "      <td>149.690002</td>\n",
       "      <td>58839600.0</td>\n",
       "      <td>148.690002</td>\n",
       "    </tr>\n",
       "  </tbody>\n",
       "</table>\n",
       "<p>251 rows × 5 columns</p>\n",
       "</div>"
      ],
      "text/plain": [
       "                  High         Low        Open       Volume       Close\n",
       "Date                                                                   \n",
       "2020-10-26  116.550003  112.879997  114.010002  111850700.0  114.314743\n",
       "2020-10-27  117.279999  114.540001  115.489998   92276800.0  115.854836\n",
       "2020-10-28  115.430000  111.099998  115.050003  143937800.0  110.489349\n",
       "2020-10-29  116.930000  112.199997  112.370003  146129200.0  114.583023\n",
       "2020-10-30  111.989998  107.720001  111.059998  190272600.0  108.164307\n",
       "...                ...         ...         ...          ...         ...\n",
       "2021-10-18  146.839996  143.160004  143.449997   85589200.0  146.550003\n",
       "2021-10-19  149.169998  146.550003  147.009995   76378900.0  148.759995\n",
       "2021-10-20  149.750000  148.119995  148.699997   58418800.0  149.259995\n",
       "2021-10-21  149.639999  147.869995  148.809998   61421000.0  149.479996\n",
       "2021-10-22  150.179993  148.639999  149.690002   58839600.0  148.690002\n",
       "\n",
       "[251 rows x 5 columns]"
      ]
     },
     "execution_count": 7,
     "metadata": {},
     "output_type": "execute_result"
    }
   ],
   "source": [
    "stock"
   ]
  },
  {
   "cell_type": "code",
   "execution_count": null,
   "id": "09e5ba91",
   "metadata": {},
   "outputs": [],
   "source": []
  },
  {
   "cell_type": "markdown",
   "id": "2614f0be",
   "metadata": {},
   "source": [
    "## Step 6 - Convert the Index to Datetime Data type"
   ]
  },
  {
   "cell_type": "code",
   "execution_count": 8,
   "id": "3d09c978",
   "metadata": {},
   "outputs": [],
   "source": [
    "stock.index = pandas.to_datetime(stock.index)"
   ]
  },
  {
   "cell_type": "code",
   "execution_count": null,
   "id": "a196f831",
   "metadata": {},
   "outputs": [],
   "source": []
  },
  {
   "cell_type": "markdown",
   "id": "5bc4be10",
   "metadata": {},
   "source": [
    "## Step 7 - Plot the Chart"
   ]
  },
  {
   "cell_type": "code",
   "execution_count": 9,
   "id": "923a0d7a",
   "metadata": {},
   "outputs": [
    {
     "data": {
      "image/png": "[encoded data removed]",
      "text/plain": [
       "<Figure size 958.333x575 with 4 Axes>"
      ]
     },
     "metadata": {},
     "output_type": "display_data"
    }
   ],
   "source": [
    "mplfinance.plot(stock[\"2021-09\":\"2021-10\"],\n",
    "                type = \"candle\",\n",
    "                mav = 20, # 20 Period Moving Average\n",
    "                volume = True,\n",
    "                tight_layout = True,\n",
    "               figratio = (20,12),\n",
    "               style = \"yahoo\",\n",
    "                title = \"Chart\"\n",
    "               )"
   ]
  },
  {
   "cell_type": "code",
   "execution_count": null,
   "id": "300fedeb",
   "metadata": {},
   "outputs": [],
   "source": []
  }
 ],
 "metadata": {
  "kernelspec": {
   "display_name": "Python 3",
   "language": "python",
   "name": "python3"
  },
  "language_info": {
   "codemirror_mode": {
    "name": "ipython",
    "version": 3
   },
   "file_extension": ".py",
   "mimetype": "text/x-python",
   "name": "python",
   "nbconvert_exporter": "python",
   "pygments_lexer": "ipython3",
   "version": "3.8.8"
  }
 },
 "nbformat": 4,
 "nbformat_minor": 5
}
