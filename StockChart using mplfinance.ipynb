{
 "cells": [
  {
   "cell_type": "markdown",
   "id": "71814a4c",
   "metadata": {},
   "source": [
    "# How to Plot A Candle Stick Chart of a Stock"
   ]
  },
  {
   "cell_type": "markdown",
   "id": "30121c67",
   "metadata": {},
   "source": [
    "## Step 1 - pip install mplfinance"
   ]
  },
  {
   "cell_type": "code",
   "execution_count": null,
   "id": "d46755f9",
   "metadata": {},
   "outputs": [],
   "source": [
    "pip install mplfinance"
   ]
  },
  {
   "cell_type": "code",
   "execution_count": null,
   "id": "997004e9",
   "metadata": {},
   "outputs": [],
   "source": []
  },
  {
   "cell_type": "markdown",
   "id": "9f2f73d9",
   "metadata": {},
   "source": [
    "## Step 2 - Import The Necessary Libraries"
   ]
  },
  {
   "cell_type": "code",
   "execution_count": null,
   "id": "528f2700",
   "metadata": {},
   "outputs": [],
   "source": [
    "import pandas\n",
    "import pandas_datareader\n",
    "from pandas_datareader import data\n",
    "import mplfinance"
   ]
  },
  {
   "cell_type": "code",
   "execution_count": null,
   "id": "9e58a6ce",
   "metadata": {},
   "outputs": [],
   "source": []
  },
  {
   "cell_type": "markdown",
   "id": "be903597",
   "metadata": {},
   "source": [
    "## Step 3 - Extract the Stock Data"
   ]
  },
  {
   "cell_type": "code",
   "execution_count": null,
   "id": "2d1f7da9",
   "metadata": {},
   "outputs": [],
   "source": [
    "stock = data.DataReader(name = \"AAPL\",\n",
    "                       data_source = \"yahoo\",\n",
    "                       start = \"2020-10-25\",\n",
    "                       end = \"2021-10-25\")\n",
    "stock"
   ]
  },
  {
   "cell_type": "code",
   "execution_count": null,
   "id": "765033e2",
   "metadata": {},
   "outputs": [],
   "source": []
  },
  {
   "cell_type": "markdown",
   "id": "704774be",
   "metadata": {},
   "source": [
    "## Step 4 - Remove the Unecessary columns \n",
    "## (Only keep Open, High, Low, Close and Volume)"
   ]
  },
  {
   "cell_type": "code",
   "execution_count": null,
   "id": "83d0a164",
   "metadata": {},
   "outputs": [],
   "source": [
    "stock.columns"
   ]
  },
  {
   "cell_type": "code",
   "execution_count": null,
   "id": "6d8ba0dd",
   "metadata": {},
   "outputs": [],
   "source": [
    "stock.drop(columns = ['Close'] , inplace = True)"
   ]
  },
  {
   "cell_type": "code",
   "execution_count": null,
   "id": "92d999c1",
   "metadata": {},
   "outputs": [],
   "source": []
  },
  {
   "cell_type": "markdown",
   "id": "d45c7044",
   "metadata": {},
   "source": [
    "## Step 5 - Rename the Columns to \"High\" , \"Low\" , \"Open\" ,\"Close\" ,\"Volume\""
   ]
  },
  {
   "cell_type": "code",
   "execution_count": null,
   "id": "7d626001",
   "metadata": {},
   "outputs": [],
   "source": []
  },
  {
   "cell_type": "code",
   "execution_count": null,
   "id": "a46d1f49",
   "metadata": {},
   "outputs": [],
   "source": [
    "stock.rename(columns = {'High' : \"High\",\n",
    "                        'Low' : \"Low\",\n",
    "                        'Open' : \"Open\",\n",
    "                        'Volume':\"Volume\",\n",
    "                        'Adj Close' : \"Close\"} , inplace = True)"
   ]
  },
  {
   "cell_type": "code",
   "execution_count": null,
   "id": "3bfd4415",
   "metadata": {},
   "outputs": [],
   "source": [
    "stock"
   ]
  },
  {
   "cell_type": "code",
   "execution_count": null,
   "id": "717e98e8",
   "metadata": {},
   "outputs": [],
   "source": []
  },
  {
   "cell_type": "markdown",
   "id": "0d2c66ff",
   "metadata": {},
   "source": [
    "## Step 6 - Convert the Index to Datetime Data type"
   ]
  },
  {
   "cell_type": "code",
   "execution_count": null,
   "id": "58d45b1d",
   "metadata": {},
   "outputs": [],
   "source": [
    "stock.index = pandas.to_datetime(stock.index)"
   ]
  },
  {
   "cell_type": "code",
   "execution_count": null,
   "id": "653f56fc",
   "metadata": {},
   "outputs": [],
   "source": []
  },
  {
   "cell_type": "markdown",
   "id": "1b5023bc",
   "metadata": {},
   "source": [
    "## Step 7 - Plot the Chart"
   ]
  },
  {
   "cell_type": "code",
   "execution_count": null,
   "id": "6eba5cbb",
   "metadata": {},
   "outputs": [],
   "source": [
    "mplfinance.plot(stock[\"2021-09\":\"2021-10\"],\n",
    "                type = \"candle\",\n",
    "                mav = 20, # 20 Period Moving Average\n",
    "                volume = True,\n",
    "                tight_layout = True,\n",
    "               figratio = (20,12),\n",
    "               style = \"yahoo\",\n",
    "                title = \"Chart\"\n",
    "               )"
   ]
  },
  {
   "cell_type": "code",
   "execution_count": null,
   "id": "58a06a65",
   "metadata": {},
   "outputs": [],
   "source": []
  }
 ],
 "metadata": {
  "kernelspec": {
   "display_name": "Python 3",
   "language": "python",
   "name": "python3"
  },
  "language_info": {
   "codemirror_mode": {
    "name": "ipython",
    "version": 3
   },
   "file_extension": ".py",
   "mimetype": "text/x-python",
   "name": "python",
   "nbconvert_exporter": "python",
   "pygments_lexer": "ipython3",
   "version": "3.8.8"
  }
 },
 "nbformat": 4,
 "nbformat_minor": 5
}
